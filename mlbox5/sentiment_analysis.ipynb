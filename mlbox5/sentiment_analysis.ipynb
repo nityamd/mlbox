{
 "cells": [
  {
   "cell_type": "code",
   "execution_count": 1,
   "metadata": {},
   "outputs": [],
   "source": [
    "from textblob.classifiers import NaiveBayesClassifier\n",
    "from textblob import TextBlob\n",
    "import nltk"
   ]
  },
  {
   "cell_type": "code",
   "execution_count": 2,
   "metadata": {},
   "outputs": [],
   "source": [
    "training_data = [\n",
    "    ('I am exhausted of this work.', 'neg'),\n",
    "    (\"I can't cooperate with this\", 'neg'),\n",
    "    ('He is my baddest enemy!', 'neg'),\n",
    "    ('My management is poor.', 'neg'),\n",
    "    ('I love this burger.', 'pos'),\n",
    "    ('This is an brilliant place!', 'pos'),\n",
    "    ('I feel very good about these dates.', 'pos'),\n",
    "    ('This is my best work.', 'pos'),\n",
    "    (\"What an awesome view\", 'pos'),\n",
    "    ('I do not like this dish', 'neg'),\n",
    "    ('This food is horrible!', 'neg')\n",
    "]\n",
    "test_data = [\n",
    "    (\"I am not feeling well today.\", 'neg'), \n",
    "    (\"I feel brilliant!\", 'pos'), \n",
    "    ('Gary is a friend of mine.', 'pos'), \n",
    "    (\"I can't believe I'm doing this.\", 'neg'), \n",
    "    ('The date was good.', 'pos'),\n",
    "    ('I do not enjoy my job', 'neg')\n",
    "]"
   ]
  },
  {
   "cell_type": "code",
   "execution_count": 3,
   "metadata": {},
   "outputs": [],
   "source": [
    "classifier = NaiveBayesClassifier(training_data)"
   ]
  },
  {
   "cell_type": "code",
   "execution_count": 19,
   "metadata": {},
   "outputs": [],
   "source": [
    "msg = \"I love this library\""
   ]
  },
  {
   "cell_type": "code",
   "execution_count": 20,
   "metadata": {},
   "outputs": [
    {
     "data": {
      "text/plain": [
       "'neg'"
      ]
     },
     "execution_count": 20,
     "metadata": {},
     "output_type": "execute_result"
    }
   ],
   "source": [
    "classifier.classify(msg)"
   ]
  },
  {
   "cell_type": "code",
   "execution_count": 21,
   "metadata": {},
   "outputs": [
    {
     "name": "stdout",
     "output_type": "stream",
     "text": [
      "I love this library\n",
      "pos: 0.42\n",
      "neg: 0.58\n"
     ]
    }
   ],
   "source": [
    "p_dist = classifier.prob_classify(msg)\n",
    "print msg\n",
    "print \"pos: %s\" % round(p_dist.prob(\"pos\"), 2)\n",
    "print \"neg: %s\" % round(p_dist.prob(\"neg\"), 2)"
   ]
  },
  {
   "cell_type": "code",
   "execution_count": 24,
   "metadata": {},
   "outputs": [
    {
     "data": {
      "text/plain": [
       "'neg'"
      ]
     },
     "execution_count": 24,
     "metadata": {},
     "output_type": "execute_result"
    }
   ],
   "source": [
    "blob = TextBlob(\"The beer is good. But the hangover is horrible.\", classifier=classifier)\n",
    "blob.classify()"
   ]
  },
  {
   "cell_type": "code",
   "execution_count": 25,
   "metadata": {},
   "outputs": [
    {
     "name": "stdout",
     "output_type": "stream",
     "text": [
      "The beer is good.\n",
      "pos\n",
      "But the hangover is horrible.\n",
      "neg\n"
     ]
    }
   ],
   "source": [
    "for s in blob.sentences:\n",
    "    print s\n",
    "    print s.classify()"
   ]
  },
  {
   "cell_type": "code",
   "execution_count": null,
   "metadata": {},
   "outputs": [],
   "source": []
  }
 ],
 "metadata": {
  "kernelspec": {
   "display_name": "Python 2",
   "language": "python",
   "name": "python2"
  },
  "language_info": {
   "codemirror_mode": {
    "name": "ipython",
    "version": 2
   },
   "file_extension": ".py",
   "mimetype": "text/x-python",
   "name": "python",
   "nbconvert_exporter": "python",
   "pygments_lexer": "ipython2",
   "version": "2.7.14"
  }
 },
 "nbformat": 4,
 "nbformat_minor": 2
}
